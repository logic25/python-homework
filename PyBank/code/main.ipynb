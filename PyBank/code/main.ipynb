{
 "cells": [
  {
   "cell_type": "code",
   "execution_count": 300,
   "metadata": {},
   "outputs": [],
   "source": [
    "#Import path and libraries\n",
    "from pathlib import Path\n",
    "import csv"
   ]
  },
  {
   "cell_type": "code",
   "execution_count": 301,
   "metadata": {},
   "outputs": [],
   "source": [
    "# Set the file path\n",
    "csvpath = Path(\"../Resources/budget_data.csv\")"
   ]
  },
  {
   "cell_type": "code",
   "execution_count": 302,
   "metadata": {},
   "outputs": [],
   "source": [
    "# Initialize variable \n",
    "total_amount = 0\n",
    "date = []\n",
    "total_months = 0\n",
    "actual_change = []\n",
    "greatest_increase = {\n",
    "    \"Month\":\"\",\n",
    "    \"Profit\": -999999999\n",
    "}\n",
    "greatest_decrease = {\n",
    "    \"Month\":\"\",\n",
    "    \"Profit\": 9999999999\n",
    "}\n",
    "last_profit = 0"
   ]
  },
  {
   "cell_type": "code",
   "execution_count": 303,
   "metadata": {},
   "outputs": [
    {
     "name": "stdout",
     "output_type": "stream",
     "text": [
      "<class '_io.TextIOWrapper'>\n",
      "<class '_csv.reader'>\n"
     ]
    }
   ],
   "source": [
    "# Open the input path \n",
    "with open(csvpath, 'r') as csvfile:\n",
    "    # Print the datatype of the file object\n",
    "    print(type(csvfile))\n",
    "\n",
    "    # Pass in the csv file to the csv.reader() function\n",
    "    csvreader = csv.reader(csvfile, delimiter=',')\n",
    "    # Print the datatype of the csvreader\n",
    "    print(type(csvreader))\n",
    "\n",
    "    # Go to the next row from the start of the file\n",
    "    header = next(csvreader)\n",
    "#@TODO: The net total amount of Profit/Losses over the entire period.\n",
    "    # Read each row of data after the header\n",
    "    for row in csvreader:\n",
    "        # Print the row\n",
    "#         print(row)\n",
    "        profit = int(row[1])\n",
    "        total_amount += profit\n",
    "        if last_profit != 0:\n",
    "            change = profit - last_profit\n",
    "            actual_change.append(change)\n",
    "#@TODO: The greatest increase in profits (date and amount) over the entire period.            \n",
    "            if change > greatest_increase [\"Profit\"]:\n",
    "                greatest_increase [\"Month\"] = row[0]\n",
    "                greatest_increase [\"Profit\"] = change\n",
    "#@TODO: The greatest decrease in losses (date and amount) over the entire period.                \n",
    "            if change < greatest_decrease[\"Profit\"]:\n",
    "                 greatest_decrease[\"Month\"] = row[0]\n",
    "                 greatest_decrease[\"Profit\"]= change\n",
    "                \n",
    "        total_months += 1\n",
    "        last_profit = profit"
   ]
  },
  {
   "cell_type": "code",
   "execution_count": 304,
   "metadata": {},
   "outputs": [
    {
     "data": {
      "text/plain": [
       "-2315.12"
      ]
     },
     "execution_count": 304,
     "metadata": {},
     "output_type": "execute_result"
    }
   ],
   "source": [
    "#@TODO: The average of the changes in Profit/Losses over the entire period.\n",
    "average_change = round(sum(actual_change)/len(actual_change), 2)\n",
    "average_change"
   ]
  },
  {
   "cell_type": "code",
   "execution_count": 307,
   "metadata": {},
   "outputs": [
    {
     "name": "stdout",
     "output_type": "stream",
     "text": [
      "--------Financial Analysis---------\n",
      "Total Months: 86\n",
      "Total:$38382578\n",
      "Net total of Profit & Loss: $-2315.12\n",
      "Greatest Increase in Profits: {'Month': 'Feb-2012', 'Profit': 1926159}\n",
      "Greatest Decrease in Profits: {'Month': 'Sep-2013', 'Profit': -2196167}\n"
     ]
    }
   ],
   "source": [
    "#print out the financial analysis\n",
    "print(\"--------Financial Analysis---------\")\n",
    "print(f\"Total Months: {total_months}\")\n",
    "print(f\"Total:${total_amount}\")\n",
    "print(f\"Net total of Profit & Loss: ${average_change}\")\n",
    "print(f\"Greatest Increase in Profits: {greatest_increase}\")\n",
    "print(f\"Greatest Decrease in Profits: {greatest_decrease}\")"
   ]
  },
  {
   "cell_type": "code",
   "execution_count": 306,
   "metadata": {},
   "outputs": [],
   "source": [
    "# Set the output file path\n",
    "output_text = Path(\"../Resources/output_text.txt\")\n",
    "\n",
    "with open(output_text, 'w') as file:\n",
    "    file.write(f\"Financial Analysis\\n\")\n",
    "    file.write(f\"----------------------------\\n\")\n",
    "    file.write(f\"Total Months: {total_months} \\n\")\n",
    "    file.write(f\"Total: ${total_amount}\\n\")\n",
    "    file.write(f\"Average Change: ${average_change}\\n\")\n",
    "    file.write(f\"Greatest Increase in Profits: {greatest_increase}) \\n\")\n",
    "    file.write(f\"Greatest Decrease in Profits: {greatest_decrease}) \\n\")"
   ]
  }
 ],
 "metadata": {
  "kernelspec": {
   "display_name": "Python 3",
   "language": "python",
   "name": "python3"
  },
  "language_info": {
   "codemirror_mode": {
    "name": "ipython",
    "version": 3
   },
   "file_extension": ".py",
   "mimetype": "text/x-python",
   "name": "python",
   "nbconvert_exporter": "python",
   "pygments_lexer": "ipython3",
   "version": "3.8.3"
  }
 },
 "nbformat": 4,
 "nbformat_minor": 4
}
